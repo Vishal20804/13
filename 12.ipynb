{
 "cells": [
  {
   "cell_type": "code",
   "execution_count": null,
   "id": "c39de7a2-e3a1-41bb-8f0b-4f6cab7e9db1",
   "metadata": {},
   "outputs": [],
   "source": [
    "#ans:1=\n",
    "An exception in Python is an event that interrupts the normal flow of a program's execution due to an error or unexpected condition. When an exception occurs, Python generates an error message that can be used to diagnose and fix the problem.\n"
   ]
  },
  {
   "cell_type": "code",
   "execution_count": null,
   "id": "4960ebd6-4a68-4854-9398-a254ec8c8512",
   "metadata": {},
   "outputs": [],
   "source": [
    "#ans:2=\n",
    "When an exception is not handled in a Python program, it will cause the program to terminate abruptly, displaying an error message that indicates the type of exception that occurred and the line of code where it happened. This can lead to a poor user experience and make it difficult to identify and diagnose the root cause of the problem.\n",
    "\n",
    "num1 = 10\n",
    "num2 = 0\n",
    "\n",
    "result = num1 / num2\n",
    "\n",
    "print(result)\n",
    "Traceback (most recent call last):\n",
    "  File \"<stdin>\", line 4, in <module>\n",
    "ZeroDivisionError: division by zero\n"
   ]
  },
  {
   "cell_type": "code",
   "execution_count": null,
   "id": "074ccced-86e6-4558-971c-067fe4b7cf5e",
   "metadata": {},
   "outputs": [],
   "source": [
    "#ans:3=\n",
    "In Python, two statements are used to catch and handle exceptions: try and except. The try statement is used to define a block of code that may raise an exception, while the except statement is used to define a block of code that will handle the exception if it occurs.\n",
    "# This code tries to read a file, but if it doesn't exist, it will handle the FileNotFoundError exception\n",
    "\n",
    "filename = \"nonexistent.txt\"\n",
    "\n",
    "try:\n",
    "    with open(filename, 'r') as file:\n",
    "        content = file.read()\n",
    "        print(content)\n",
    "except FileNotFoundError:\n",
    "    print(f\"The file '{filename}' does not exist.\")\n"
   ]
  },
  {
   "cell_type": "code",
   "execution_count": null,
   "id": "8776e87e-b28f-4a0b-b1de-3c8baff93b75",
   "metadata": {},
   "outputs": [],
   "source": [
    "#ans:4=\n",
    "In Python, the try statement can be followed by an optional else statement, which allows you to define a block of code that will execute if no exceptions were raised in the try block. The else block is executed after the try block completes, but before any finally block (if one exists).\n",
    "num1 = 10\n",
    "num2 = 2\n",
    "\n",
    "try:\n",
    "    result = num1 / num2\n",
    "except ZeroDivisionError:\n",
    "    print(\"Error: Cannot divide by zero.\")\n",
    "else:\n",
    "    print(\"The result is:\", result)\n",
    "finally:\n",
    "    print(\"This block always executes, regardless of whether an exception was raised.\")"
   ]
  },
  {
   "cell_type": "code",
   "execution_count": null,
   "id": "c7a1fcd0-0fe6-46b2-bad7-afdaf7cf9729",
   "metadata": {},
   "outputs": [],
   "source": [
    "#ans:5=\n",
    "In Python, custom exceptions are user-defined exceptions that can be created by inheriting from the Exception class or one of its subclasses. Custom exceptions allow you to define your own types of exceptions that are specific to your program or application.\n",
    "\n",
    "# This code defines a custom exception for an invalid input\n",
    "\n",
    "class InvalidInputError(Exception):\n",
    "    pass\n",
    "\n",
    "def process_input(value):\n",
    "    if not value.isdigit():\n",
    "        raise InvalidInputError(\"Invalid input. Expected a positive integer.\")\n",
    "    # process the input here\n",
    "\n",
    "value = input(\"Enter a positive integer: \")\n",
    "\n",
    "try:\n",
    "    process_input(value)\n",
    "except InvalidInputError as e:\n",
    "    print(e)\n"
   ]
  },
  {
   "cell_type": "code",
   "execution_count": null,
   "id": "e7654343-c206-4b1d-abb1-7e0dac7b6b4c",
   "metadata": {},
   "outputs": [],
   "source": [
    "#ans:6=\n"
   ]
  }
 ],
 "metadata": {
  "kernelspec": {
   "display_name": "Python 3 (ipykernel)",
   "language": "python",
   "name": "python3"
  },
  "language_info": {
   "codemirror_mode": {
    "name": "ipython",
    "version": 3
   },
   "file_extension": ".py",
   "mimetype": "text/x-python",
   "name": "python",
   "nbconvert_exporter": "python",
   "pygments_lexer": "ipython3",
   "version": "3.10.8"
  }
 },
 "nbformat": 4,
 "nbformat_minor": 5
}
